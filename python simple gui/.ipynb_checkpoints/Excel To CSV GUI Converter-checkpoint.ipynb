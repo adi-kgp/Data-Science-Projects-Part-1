{
 "cells": [
  {
   "cell_type": "code",
   "execution_count": 1,
   "id": "ec701a0e",
   "metadata": {},
   "outputs": [],
   "source": [
    "import PySimpleGUI as sg\n",
    "import pandas as pd \n",
    "from pathlib import Path"
   ]
  },
  {
   "cell_type": "code",
   "execution_count": 16,
   "id": "f20de8d8",
   "metadata": {},
   "outputs": [],
   "source": [
    "def is_valid_path(filepath):\n",
    "    if filepath and Path(filepath).exists():\n",
    "        return True\n",
    "    sg.popup_error(\"Filepath not correct\")\n",
    "    return False\n",
    "\n",
    "def convert_to_csv(excel_file_path, output_folder, sheet_name, separator, decimal):\n",
    "    df = pd.read_excel(excel_file_path, sheet_name)\n",
    "    filename = Path(excel_file_path).stem\n",
    "    outputfile = Path(output_folder) / f\"{filename}.csv\"\n",
    "    df.to_csv(outputfile, sep=separator, decimal=decimal, index=False)\n",
    "    sg.popup_no_titlebar(\"Done! :)\")\n",
    "    \n",
    "def display_excel_file(excel_file_path, sheet_name):\n",
    "    df = pd.read_excel(excel_file_path, sheet_name)\n",
    "    filename = Path(excel_file_path).name\n",
    "    sg.popup_scrolled(df.dtypes, \"=\" * 50, df, title=filename)\n",
    "    \n",
    "def settings_window(settings):\n",
    "    # ------- GUI Definition -------- #\n",
    "    layout = [\n",
    "        [sg.Text(\"SETTINGS\")],\n",
    "        [sg.Text(\"Separator\"), sg.Input(settings[\"CSV\"][\"separator\"], s=1, key=\"-SEPARATOR-\"),\n",
    "        sg.Text(\"Decimal\"), sg.Combo(settings[\"CSV\"][\"decimal\"].split(\"|\"),\n",
    "                                    default_value=settings[\"CSV\"][\"decimal_default\"],\n",
    "                                     s=1, key=\"-DECIMAL-\"),\n",
    "        sg.Text(\"Sheet Name:\"), sg.Input(settings[\"EXCEL\"][\"sheet_name\"], s=20, key=\"-SHEET_NAME-\")],\n",
    "        [sg.Button(\"Save Current Settings\", s=24)]\n",
    "    ]\n",
    "    window = sg.Window(\"Settings Window\", layout, modal=True, use_custom_titlebar=True)\n",
    "    while True:\n",
    "        event, values = window.read()\n",
    "        if event == sg.WINDOW_CLOSED:\n",
    "            break\n",
    "        if event == \"Save Current Settings\":\n",
    "            # Write to ini file\n",
    "            settings[\"CSV\"][\"separator\"] = values[\"-SEPARATOR-\"]\n",
    "            settings[\"CSV\"][\"decimal_default\"] = values[\"-DECIMAL-\"]\n",
    "            settings[\"EXCEL\"][\"sheet_name\"] = values[\"-SHEET_NAME-\"]\n",
    "            # Display success message and close window\n",
    "            sg.popup_no_titlebar(\"Settings saved!\")\n",
    "            break\n",
    "    window.close()"
   ]
  },
  {
   "cell_type": "code",
   "execution_count": 17,
   "id": "70240111",
   "metadata": {},
   "outputs": [],
   "source": [
    "def main_window():\n",
    "    # ---- Menu Definition ---- #\n",
    "    menu_def = [[\"Toolbar\", [\"Command 1\", \"Command 2\", \"---\", \"Command 3\", \"Command 4\"]],\n",
    "               [\"Help\", [\"Settings\", \"About\",\"Exit\"]]]\n",
    "    #------- GUI Definition ----------- #\n",
    "    layout = [\n",
    "        [sg.MenubarCustom(menu_def, tearoff = False)], \n",
    "        [sg.Text(\"Input File:\", s=15, justification=\"r\"), sg.Input(key=\"-IN-\"), sg.FileBrowse(file_types=((\"Excel Files\", \"*.xls*\"),))],\n",
    "        [sg.Text(\"Output Folder:\", s=15, justification=\"r\"), sg.Input(key=\"-OUT-\"), sg.FolderBrowse()],\n",
    "        [sg.Exit(s=16, button_color=\"tomato\"), sg.Button(\"Settings\", s=16), sg.Button(\"Display Excel File\",s=18), sg.Button(\"Convert To CSV\", s=16)],\n",
    "             ]\n",
    "    window_title = settings[\"GUI\"][\"title\"]\n",
    "    window = sg.Window(window_title, layout, use_custom_titlebar=True)\n",
    "    \n",
    "    while True:\n",
    "        event, values = window.read()\n",
    "        if event in (sg.WINDOW_CLOSED, \"Exit\"):\n",
    "            break\n",
    "        if event == \"About\":\n",
    "            window.disappear()\n",
    "            sg.popup(window_title, \"Version 1.0\", \"Convert Excel Files to CSV\", grab_anywhere=True)\n",
    "            window.reappear()\n",
    "        if event in (\"Command 1\", \"Command 2\", \"Command 3\", \"Command 4\"):\n",
    "            sg.popup_error(\"Not yet implemented\")\n",
    "        if event == \"Display Excel File\":\n",
    "            if is_valid_path(values[\"-IN-\"]):\n",
    "                display_excel_file(values[\"-IN-\"], settings[\"EXCEL\"][\"sheet_name\"])\n",
    "        if event == \"Settings\":\n",
    "            settings_window(settings)\n",
    "        if event == \"Convert To CSV\" :\n",
    "            if (is_valid_path(values[\"-IN-\"])) and (is_valid_path(values[\"-OUT-\"])):\n",
    "                convert_to_csv(\n",
    "                    excel_file_path = values[\"-IN-\"],\n",
    "                    output_folder=values[\"-OUT-\"],\n",
    "                    sheet_name=settings[\"EXCEL\"][\"sheet_name\"],\n",
    "                    separator=settings[\"CSV\"][\"separator\"],\n",
    "                    decimal=settings[\"CSV\"][\"decimal\"],\n",
    "                )\n",
    "    window.close() "
   ]
  },
  {
   "cell_type": "code",
   "execution_count": 18,
   "id": "72be7513",
   "metadata": {},
   "outputs": [],
   "source": [
    "if __name__==\"__main__\":\n",
    "    SETTINGS_PATH = Path.cwd()\n",
    "    # create the settings object and use ini format\n",
    "    settings = sg.UserSettings(\n",
    "        path=SETTINGS_PATH, filename=\"config.ini\", use_config_file=True, convert_bools_and_none=True\n",
    "    )\n",
    "    theme = settings[\"GUI\"][\"theme\"]\n",
    "    font_family = settings[\"GUI\"][\"font_family\"]\n",
    "    font_size = int(settings[\"GUI\"][\"font_size\"])\n",
    "    sg.theme(theme)\n",
    "    sg.set_options(font=(font_family, font_size))\n",
    "    main_window()"
   ]
  },
  {
   "cell_type": "code",
   "execution_count": null,
   "id": "53e6688b",
   "metadata": {},
   "outputs": [],
   "source": []
  },
  {
   "cell_type": "code",
   "execution_count": null,
   "id": "3e45d648",
   "metadata": {},
   "outputs": [],
   "source": []
  },
  {
   "cell_type": "code",
   "execution_count": null,
   "id": "89c5bb9e",
   "metadata": {},
   "outputs": [],
   "source": []
  },
  {
   "cell_type": "code",
   "execution_count": null,
   "id": "0b22ec67",
   "metadata": {},
   "outputs": [],
   "source": []
  }
 ],
 "metadata": {
  "jupytext": {
   "cell_metadata_filter": "-all",
   "encoding": "# -*- coding: utf-8 -*-",
   "executable": "/usr/bin/env python3",
   "main_language": "python",
   "notebook_metadata_filter": "-all"
  },
  "kernelspec": {
   "display_name": "Python 3 (ipykernel)",
   "language": "python",
   "name": "python3"
  },
  "language_info": {
   "codemirror_mode": {
    "name": "ipython",
    "version": 3
   },
   "file_extension": ".py",
   "mimetype": "text/x-python",
   "name": "python",
   "nbconvert_exporter": "python",
   "pygments_lexer": "ipython3",
   "version": "3.9.13"
  }
 },
 "nbformat": 4,
 "nbformat_minor": 5
}
